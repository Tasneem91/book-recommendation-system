{
 "cells": [
  {
   "cell_type": "markdown",
   "metadata": {},
   "source": [
    "### Test Module"
   ]
  },
  {
   "cell_type": "markdown",
   "metadata": {},
   "source": [
    "#### Module Description"
   ]
  },
  {
   "cell_type": "markdown",
   "metadata": {},
   "source": [
    "- **Module Name:** test_module\n",
    "\n",
    "\n",
    "\n",
    "- **Module Data Input:** user_preferences dictionary and the other inputs are taken by the user.\n",
    "\n",
    "\n",
    "\n",
    "- **Module Expected Output:** find the similarity score between 2 users, similarity between two books, find first n similar user for a given user, and find first n similar book for a given book.\n",
    "\n",
    "\n",
    "- **Module Implementation:** provide the user with an intreactive interface to use the application."
   ]
  },
  {
   "cell_type": "markdown",
   "metadata": {},
   "source": [
    "#### The reference for importing functions from another notebook file\n",
    "\n",
    "https://stackoverflow.com/questions/50576404/importing-functions-from-another-jupyter-notebook"
   ]
  },
  {
   "cell_type": "code",
   "execution_count": 1,
   "metadata": {},
   "outputs": [],
   "source": [
    "import pickle as pkl\n",
    "import nbimporter"
   ]
  },
  {
   "cell_type": "code",
   "execution_count": 2,
   "metadata": {},
   "outputs": [],
   "source": [
    "from similarity_module_nb import jaccard_index, euclidean_distance, manhattan_distance, euclidean_distance, cosine_similarity,pearson_correlation, first_n_similar_users, books_cosin_similarity, books_jaccard_similarity, first_n_cosin_similar_books, first_n_jaccard_similar_books"
   ]
  },
  {
   "cell_type": "markdown",
   "metadata": {},
   "source": [
    "#### To get the user_preferences dictionary, we can load the pickle file or import it from load_data_set_module_nb"
   ]
  },
  {
   "cell_type": "code",
   "execution_count": 3,
   "metadata": {},
   "outputs": [],
   "source": [
    "with open('user_preferences.pickle', 'rb') as handle:\n",
    "    user_preferences = pkl.load(handle)"
   ]
  },
  {
   "cell_type": "code",
   "execution_count": 20,
   "metadata": {},
   "outputs": [],
   "source": [
    "# from load_data_set_module_nb import user_preferences"
   ]
  },
  {
   "cell_type": "code",
   "execution_count": 4,
   "metadata": {},
   "outputs": [],
   "source": [
    "similarity_options = {'1': 'Find similarity between two users: press 1 for more details',\n",
    "                      '2': 'Find similarity between two books: press 2 for more details',\n",
    "                      '3': 'Find first n similar user/book: press 3 for more details',\n",
    "                      '0': 'Quit'\n",
    "                      }"
   ]
  },
  {
   "cell_type": "code",
   "execution_count": 5,
   "metadata": {},
   "outputs": [],
   "source": [
    "user_similarity_options = {'1': 'Find similarity between two users: Jaccard Similarity',\n",
    "                           '2': 'Find similarity between two users: Euclidean Distance',\n",
    "                           '3': 'Find similarity between two users: Cosine Similarity',\n",
    "                           '4': 'Find similarity between two users: Pearson correlation coefficient',\n",
    "                           '5': 'Find similarity between two users: Manhattan Distance',\n",
    "                           '0': 'Quit'\n",
    "                           }"
   ]
  },
  {
   "cell_type": "code",
   "execution_count": 6,
   "metadata": {},
   "outputs": [],
   "source": [
    "book_similarity_options = {'1': 'Find similarity between two books: Cosine Similarity',\n",
    "                           '2': 'Find similarity between two books: Jaccard Similarity',\n",
    "                           '0': 'Quit'\n",
    "                           }"
   ]
  },
  {
   "cell_type": "code",
   "execution_count": 7,
   "metadata": {},
   "outputs": [],
   "source": [
    "first_n_similar_options = {'1': 'Find the first n similar users for a given user',\n",
    "                           '2': 'Find the first n similar books for a given book, according to the cosine similarity',\n",
    "                           '3': 'Find the first n similar books for a given book, according to the jaccard similarity',\n",
    "                           '0': 'Quit'\n",
    "                           }"
   ]
  },
  {
   "cell_type": "code",
   "execution_count": 38,
   "metadata": {},
   "outputs": [
    {
     "name": "stdout",
     "output_type": "stream",
     "text": [
      "\n",
      " Welcome to Book Recommender Application\n",
      "\n",
      "\n",
      " To use the application no need for sign up or sign in\n",
      "\n",
      "\n",
      " From the list of available services just enter the service number then enter, to quit any time just press enter\n",
      "\n",
      "1 - Find similarity between two users: press 1 for more details\n",
      "\n",
      "2 - Find similarity between two books: press 2 for more details\n",
      "\n",
      "3 - Find first n similar user/book: press 3 for more details\n",
      "\n",
      "0 - Quit\n",
      "\n",
      "Enter option number: 3\n",
      "\n",
      "1 - Find the first n similar users for a given user\n",
      "2 - Find the first n similar books for a given book, according to the cosine similarity\n",
      "3 - Find the first n similar books for a given book, according to the jaccard similarity\n",
      "0 - Quit\n",
      "Enter option number: \n"
     ]
    }
   ],
   "source": [
    "want_continue = 'y'\n",
    "\n",
    "while want_continue == 'y':\n",
    "    try:\n",
    "        print(\"\\n Welcome to Book Recommender Application\\n\")\n",
    "        print(\"\\n To use the application no need for sign up or sign in\\n\")\n",
    "        print(\"\\n From the list of available services just enter the service number then enter, to quit any time just \"\n",
    "              \"press enter\\n\")\n",
    "        for option in list(similarity_options.keys()):\n",
    "            print(f\"{option} - {similarity_options[option]}\")\n",
    "            print()\n",
    "\n",
    "        first_input = input(\"Enter option number: \")\n",
    "        print()\n",
    "        \n",
    "        \n",
    "        if first_input == '0' or first_input == '':\n",
    "            break\n",
    "            \n",
    "        \n",
    "        if int(first_input) not in range(0, 4):\n",
    "            print(f\"You Have entered a wrong option number {first_input}, please correct and try again\")\n",
    "            want_continue = input(\"Do you want to continue enter [y] or [n] to exit: \")\n",
    "            \n",
    "        \n",
    "        if first_input == '1':\n",
    "            for option2 in list(user_similarity_options.keys()):\n",
    "                print(f\"{option2} - {user_similarity_options[option2]}\")\n",
    "                print()\n",
    "            second_input = input(\"Enter option number: \")\n",
    "\n",
    "            if second_input == '0' or second_input == '':\n",
    "                break\n",
    "\n",
    "            if int(second_input) not in range(0, 6):\n",
    "                print(f\"You Have entered a wrong option number {second_input}, please correct and try again\")\n",
    "                want_continue = input(\"Do you want to continue enter [y] or [n] to exit: \")\n",
    "                \n",
    "            if int(second_input) in range(1, 6):\n",
    "                print(\"\\nThis function needs the two users ids to calculate the similarity\\n\")\n",
    "                user1_id = input(\"First User ID: \")\n",
    "                if user1_id == '':\n",
    "                    break\n",
    "                user2_id = input(\"Second User ID: \")\n",
    "                if user2_id == '':\n",
    "                    break\n",
    "\n",
    "                if second_input == '1':\n",
    "                    jaccard_result = jaccard_index(user_preferences, user1_id, user2_id)\n",
    "                    print(f\"\\nThe Jaccard Distance between {user1_id} and {user2_id} = {jaccard_result}\")\n",
    "                    print()\n",
    "                    want_continue = input(\"Do you want to continue enter [y] or [n] to exit: \")\n",
    "\n",
    "                elif second_input == '2':\n",
    "                    euclidean_result = euclidean_distance(user_preferences, user1_id, user2_id)\n",
    "                    print(f\"\\nThe Euclidean Distance between {user1_id} and {user2_id} = {euclidean_result}\")\n",
    "                    print()\n",
    "                    want_continue = input(\"Do you want to continue enter [y] or [n] to exit: \")\n",
    "\n",
    "                elif second_input == '3':\n",
    "                    cosine_user_result = cosine_similarity(user_preferences, user1_id, user2_id)\n",
    "                    print(f\"\\nThe Cosine Similarity between {user1_id} and {user2_id} = {cosine_user_result}\")\n",
    "                    print()\n",
    "                    want_continue = input(\"Do you want to continue enter [y] or [n] to exit: \")\n",
    "\n",
    "                elif second_input == '4':\n",
    "                    pearson_result = pearson_correlation(user_preferences, user1_id, user2_id)\n",
    "                    print(f\"\\nThe Pearson Correlation Coefficient between {user1_id} and {user2_id} = {pearson_result}\")\n",
    "                    print()\n",
    "                    want_continue = input(\"Do you want to continue enter [y] or [n] to exit: \")\n",
    "\n",
    "                elif second_input == '5':\n",
    "                    manhattan_result = manhattan_distance(user_preferences, user1_id, user2_id)\n",
    "                    print(f\"\\nThe Manhattan Distance between {user1_id} and {user2_id} = {manhattan_result}\")\n",
    "                    print()\n",
    "                    want_continue = input(\"Do you want to continue enter [y] or [n] to exit: \")\n",
    "\n",
    "\n",
    "        elif first_input == '2':\n",
    "            for option3 in list(book_similarity_options.keys()):\n",
    "                print(f\"{option3} - {book_similarity_options[option3]}\")\n",
    "\n",
    "            third_input = input(\"Enter option number: \")\n",
    "\n",
    "            \n",
    "            if third_input == '0' or third_input == '':\n",
    "                    break\n",
    "\n",
    "            \n",
    "            if int(third_input) not in range(0, 3):\n",
    "                print(f\"You Have entered a wrong option number {third_input}, please correct and try again\")\n",
    "                want_continue = input(\"Do you want to continue enter [y] or [n] to exit: \")\n",
    "                \n",
    "                \n",
    "            if int(third_input) in range(1, 3):\n",
    "                    print(\"\\nThis function needs two book isbns to calculate the similarity\\n\")\n",
    "                    book1_isbn = input(\"First Book ISBN: \")\n",
    "                    if book1_isbn == '':\n",
    "                        break\n",
    "                    book2_isbn = input(\"Second Book ISBN: \")\n",
    "                    if book2_isbn == '':\n",
    "                        break\n",
    "\n",
    "                    if third_input == '1':\n",
    "                        cosine_result = books_cosin_similarity(user_preferences, book1_isbn, book2_isbn)\n",
    "                        print(f\"\\nThe cosine similarity between {book1_isbn} and {book2_isbn} is {cosine_result}\")\n",
    "                        want_continue = input(\"Do you want to continue enter [y] or [n] to exit: \")\n",
    "\n",
    "                    elif third_input == '2':\n",
    "                        jaccard_result = books_jaccard_similarity(user_preferences, book1_isbn, book2_isbn)\n",
    "                        print(f\"\\n The jaccard similarity between {book1_isbn} and {book2_isbn} is {jaccard_result}\")\n",
    "                        want_continue = input(\"Do you want to continue enter [y] or [n] to exit: \")\n",
    "\n",
    "        elif first_input == '3':\n",
    "            for option4 in list(first_n_similar_options.keys()):\n",
    "                print(f\"{option4} - {first_n_similar_options[option4]}\")\n",
    "\n",
    "            fourth_input = input(\"Enter option number: \")\n",
    "\n",
    "            \n",
    "            if fourth_input == '0' or fourth_input == '':\n",
    "                break\n",
    "            \n",
    "            if int(fourth_input) not in range(0, 4):\n",
    "                print(f\"You Have entered a wrong option number {fourth_input}, please correct and try again\")\n",
    "                want_continue = input(\"Do you want to continue enter [y] or [n] to exit: \")\n",
    "            \n",
    "            if fourth_input == '1':\n",
    "                print(\"\\nThis function needs the user id and the number of similar users to return\\n\")\n",
    "                user_id = input(\"User ID: \")\n",
    "                if user_id == '':\n",
    "                    break\n",
    "                n = input(\"The number of similar users: \")\n",
    "                if n == '':\n",
    "                    break\n",
    "                similar_users = first_n_similar_users(user_preferences, user_id, int(n))\n",
    "                print(f\"\\nThe first {n} similar users to the {user_id} are: \\n{similar_users}\")\n",
    "                want_continue = input(\"Do you want to continue enter [y] or [n] to exit: \")\n",
    "\n",
    "            elif int(fourth_input) in range(2,4):\n",
    "                print(\"\\nThis function needs the book isbn and the number of similar books to return\\n\")\n",
    "                book_isbn = input(\"Book ISBN: \")\n",
    "                if book_isbn == '':\n",
    "                    break\n",
    "                n = input(\"The number of similar books: \")\n",
    "                if n == '':\n",
    "                    break\n",
    "\n",
    "                if fourth_input == '2':\n",
    "                    similar_n_cosine = first_n_cosin_similar_books(user_preferences, book_isbn, int(n))\n",
    "                    print(f\"\\n The first {n} similar book to {book_isbn} are: \\n{similar_n_cosine}\")\n",
    "                    want_continue = input(\"Do you want to continue enter [y] or [n] to exit: \")\n",
    "\n",
    "                elif fourth_input == '3':\n",
    "                    similar_n_jaccard = first_n_jaccard_similar_books(user_preferences, book_isbn, int(n))\n",
    "                    print(f\"\\n The first {n} similar book to {book_isbn} are: \\n{similar_n_jaccard}\")\n",
    "                    want_continue = input(\"Do you want to continue enter [y] or [n] to exit: \")\n",
    "                    \n",
    "\n",
    "    except Exception as e:\n",
    "        template = \"An exception of type {0} occurred. Arguments:\\n{1!r}\"\n",
    "        message = template.format(type(e).__name__, e.args)\n",
    "        print(message)"
   ]
  }
 ],
 "metadata": {
  "kernelspec": {
   "display_name": "Python 3 (ipykernel)",
   "language": "python",
   "name": "python3"
  },
  "language_info": {
   "codemirror_mode": {
    "name": "ipython",
    "version": 3
   },
   "file_extension": ".py",
   "mimetype": "text/x-python",
   "name": "python",
   "nbconvert_exporter": "python",
   "pygments_lexer": "ipython3",
   "version": "3.10.9"
  }
 },
 "nbformat": 4,
 "nbformat_minor": 4
}
